{
 "cells": [
  {
   "cell_type": "markdown",
   "metadata": {},
   "source": [
    "# Jeri Power Subsystem\n",
    "The MVP is composed of the following components\n",
    "- Jetson Nano: 5VDC @ 4A via Barrel Jack\n",
    "- StereoPi: 5VDC @ 2.5A via USB\n",
    "- Servo pHAT: 5VDC @ 5A via USB-C\n",
    "- Qwiic SCMD: up-to 11VDC, 3A max\n",
    "\n",
    "If all of these are provided 5V, a total supply of 14.5A of 5VDC is required, via barrel Jack, 2 USB, and a wire.\n",
    "\n",
    "A COTS Solution is [available for \\$250 here](https://www.hypershop.com/products/hyperjuice-245w-usb-c-battery-pack)\n",
    "\n",
    "The full-size prototype replaces the Qwiic SCMD with a O-Drive.\n",
    "The O-Drive draws power from the motors' power source, usually a 24-56v supply.\n",
    "A USB isolator is still required to connect motor power & USB simultaneously.\n",
    "\n",
    "It would be beneficial to create a PCB that can draw 56VDC or 120VAC and convert it to 14.5A@5VDC\n",
    "- I would likely base it on [this from Sparkfun for \\$30](https://www.sparkfun.com/products/18733)"
   ]
  }
 ],
 "metadata": {
  "kernelspec": {
   "display_name": "Python 3",
   "language": "python",
   "name": "python3"
  },
  "language_info": {
   "codemirror_mode": {
    "name": "ipython",
    "version": 3
   },
   "file_extension": ".py",
   "mimetype": "text/x-python",
   "name": "python",
   "nbconvert_exporter": "python",
   "pygments_lexer": "ipython3",
   "version": "3.6.9"
  }
 },
 "nbformat": 4,
 "nbformat_minor": 4
}
